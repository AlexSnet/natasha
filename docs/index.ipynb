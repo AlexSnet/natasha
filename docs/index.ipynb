{
 "cells": [
  {
   "cell_type": "markdown",
   "metadata": {},
   "source": [
    "# Natasha"
   ]
  },
  {
   "cell_type": "markdown",
   "metadata": {},
   "source": [
    "Natasha — библиотека для поиска и извлечения именованных сущностей ([Named-entity recognition](https://en.wikipedia.org/wiki/Named-entity_recognition)) из текстов на русском языке. В библиотеке собраны грамматики и словари для парсера [Yargy](https://github.com/natasha/yargy). На данный момент разбираются упоминания персон, даты и суммы денег."
   ]
  },
  {
   "cell_type": "markdown",
   "metadata": {},
   "source": [
    "## Использование"
   ]
  },
  {
   "cell_type": "markdown",
   "metadata": {},
   "source": [
    "Natasha имеет лаконичный интерфейс. Доступно три типа экстракторов:"
   ]
  },
  {
   "cell_type": "code",
   "execution_count": 1,
   "metadata": {},
   "outputs": [],
   "source": [
    "from natasha import NamesExtractor, DatesExtractor, MoneyExtractor"
   ]
  },
  {
   "cell_type": "markdown",
   "metadata": {},
   "source": [
    "Экстрактор принимает на вход текст и возвращается список метчей:"
   ]
  },
  {
   "cell_type": "code",
   "execution_count": 2,
   "metadata": {},
   "outputs": [
    {
     "data": {
      "text/html": [
       "<style>\n",
       "\n",
       ".markup {\n",
       "    white-space: pre-wrap;\n",
       "}\n",
       "\n",
       ".markup > mark {\n",
       "    line-height: 1;\n",
       "    display: inline-block;\n",
       "    border-radius: 0.25em;\n",
       "    border: 1px solid #fdf07c;\n",
       "    background: #ffffc2;\n",
       "}\n",
       "    </style><div class=\"markup tex2jax_ignore\">\n",
       "Простите, еще несколько цитат из приговора. «…Отрицал существование\n",
       "<mark>Иисуса</mark> и пророка <mark>Мухаммеда</mark>», «наделял <mark>Иисуса Христа</mark> качествами\n",
       "ожившего мертвеца - зомби» [и] «качествами покемонов -\n",
       "представителей бестиария японской мифологии, тем самым совершил\n",
       "преступление, предусмотренное статьей 148 УК РФ\n",
       "</div>"
      ],
      "text/plain": [
       "Matches('\\nПростите, еще несколько цитат из приговора. «…Отрицал существование\\nИисуса и пророка Мухаммеда», «наделял Иисуса Христа качествами\\nожившего мертвеца - зомби» [и] «качествами покемонов -\\nпредставителей бестиария японской мифологии, тем самым совершил\\nпреступление, предусмотренное статьей 148 УК РФ\\n',\n",
       "        [Match([MorphToken('Иисуса',\n",
       "                           [69, 75),\n",
       "                           'RU',\n",
       "                           [Form('иисус',\n",
       "                                 Grams(NOUN,Name,anim,gent,masc,sing)),\n",
       "                            Form('иисус',\n",
       "                                 Grams(NOUN,Name,accs,anim,masc,sing))])],\n",
       "               [69, 75)),\n",
       "         Match([MorphToken('Мухаммеда',\n",
       "                           [86, 95),\n",
       "                           'RU',\n",
       "                           [Form('мухаммед',\n",
       "                                 Grams(NOUN,Name,anim,gent,masc,sing)),\n",
       "                            Form('мухаммед',\n",
       "                                 Grams(NOUN,Name,accs,anim,masc,sing))])],\n",
       "               [86, 95)),\n",
       "         Match([MorphToken('Иисуса',\n",
       "                           [107, 113),\n",
       "                           'RU',\n",
       "                           [Form('иисус',\n",
       "                                 Grams(NOUN,Name,anim,gent,masc,sing)),\n",
       "                            Form('иисус',\n",
       "                                 Grams(NOUN,Name,accs,anim,masc,sing))]),\n",
       "                MorphToken('Христа',\n",
       "                           [114, 120),\n",
       "                           'RU',\n",
       "                           [Form('христос',\n",
       "                                 Grams(NOUN,Sgtm,anim,gent,masc,sing)),\n",
       "                            Form('христос',\n",
       "                                 Grams(NOUN,Sgtm,accs,anim,masc,sing))])],\n",
       "               [107, 120))])"
      ]
     },
     "execution_count": 2,
     "metadata": {},
     "output_type": "execute_result"
    }
   ],
   "source": [
    "extractor = NamesExtractor()\n",
    "text = '''\n",
    "Простите, еще несколько цитат из приговора. «…Отрицал существование\n",
    "Иисуса и пророка Мухаммеда», «наделял Иисуса Христа качествами\n",
    "ожившего мертвеца — зомби» [и] «качествами покемонов —\n",
    "представителей бестиария японской мифологии, тем самым совершил\n",
    "преступление, предусмотренное статьей 148 УК РФ\n",
    "'''\n",
    "matches = extractor(text)\n",
    "matches"
   ]
  },
  {
   "cell_type": "markdown",
   "metadata": {},
   "source": [
    "Каждый метч имеет два основных атрибута: `span` и `fact`. `span` определяет границы метча:"
   ]
  },
  {
   "cell_type": "code",
   "execution_count": 3,
   "metadata": {},
   "outputs": [
    {
     "name": "stdout",
     "output_type": "stream",
     "text": [
      "69 75 Иисуса\n",
      "86 95 Мухаммеда\n",
      "107 120 Иисуса Христа\n"
     ]
    }
   ],
   "source": [
    "for match in matches:\n",
    "    start, stop = match.span\n",
    "    print(start, stop, text[start:stop])"
   ]
  },
  {
   "cell_type": "markdown",
   "metadata": {},
   "source": [
    "В `fact` находится объект с атрибутами:"
   ]
  },
  {
   "cell_type": "code",
   "execution_count": 4,
   "metadata": {},
   "outputs": [
    {
     "name": "stdout",
     "output_type": "stream",
     "text": [
      "0 Name(first='иисус', last=None, middle=None, nick=None)\n",
      "1 Name(first='мухаммед', last=None, middle=None, nick=None)\n",
      "2 Name(first='иисус', last='христос', middle=None, nick=None)\n"
     ]
    }
   ],
   "source": [
    "for index, match in enumerate(matches):\n",
    "    print(index, match.fact)"
   ]
  },
  {
   "cell_type": "markdown",
   "metadata": {},
   "source": [
    "Разные экстракторы возвращают разные типы объектов:"
   ]
  },
  {
   "cell_type": "code",
   "execution_count": 5,
   "metadata": {},
   "outputs": [
    {
     "data": {
      "text/html": [
       "<style>\n",
       "\n",
       ".markup {\n",
       "    white-space: pre-wrap;\n",
       "}\n",
       "\n",
       ".markup > mark {\n",
       "    line-height: 1;\n",
       "    display: inline-block;\n",
       "    border-radius: 0.25em;\n",
       "    border: 1px solid #fdf07c;\n",
       "    background: #ffffc2;\n",
       "}\n",
       "    </style><div class=\"markup tex2jax_ignore\">\n",
       "Я посмотрел на инфляцию в России, взял период с <mark>декабря 2002 года</mark>\n",
       "по <mark>декабрь 2015 года</mark> Инфляция 246%.\n",
       "\n",
       "14.14 <mark>29 июня 2016 года</mark>:   Наиболее ожесточенные бои ночью шли под\n",
       "Дебальцево\n",
       "</div>"
      ],
      "text/plain": [
       "Matches('\\nЯ посмотрел на инфляцию в России, взял период с декабря 2002 года\\nпо декабрь 2015 года Инфляция 246%.\\n\\n14.14 29 июня 2016 года:   Наиболее ожесточенные бои ночью шли под\\nДебальцево\\n',\n",
       "        [Match([MorphToken('декабря',\n",
       "                           [49, 56),\n",
       "                           'RU',\n",
       "                           [Form('декабрь', Grams(NOUN,gent,inan,masc,sing))]),\n",
       "                Token('2002', [57, 61), 'INT'),\n",
       "                MorphToken('года',\n",
       "                           [62, 66),\n",
       "                           'RU',\n",
       "                           [Form('год', Grams(NOUN,gent,inan,masc,sing)),\n",
       "                            Form('год', Grams(Infr,NOUN,accs,inan,masc,plur)),\n",
       "                            Form('год',\n",
       "                                 Grams(Infr,NOUN,inan,masc,nomn,plur))])],\n",
       "               [49, 66)),\n",
       "         Match([MorphToken('декабрь',\n",
       "                           [70, 77),\n",
       "                           'RU',\n",
       "                           [Form('декабрь', Grams(NOUN,accs,inan,masc,sing)),\n",
       "                            Form('декабрь', Grams(NOUN,inan,masc,nomn,sing))]),\n",
       "                Token('2015', [78, 82), 'INT'),\n",
       "                MorphToken('года',\n",
       "                           [83, 87),\n",
       "                           'RU',\n",
       "                           [Form('год', Grams(NOUN,gent,inan,masc,sing)),\n",
       "                            Form('год', Grams(Infr,NOUN,accs,inan,masc,plur)),\n",
       "                            Form('год',\n",
       "                                 Grams(Infr,NOUN,inan,masc,nomn,plur))])],\n",
       "               [70, 87)),\n",
       "         Match([Token('29', [110, 112), 'INT'),\n",
       "                MorphToken('июня',\n",
       "                           [113, 117),\n",
       "                           'RU',\n",
       "                           [Form('июнь', Grams(NOUN,gent,inan,masc,sing))]),\n",
       "                Token('2016', [118, 122), 'INT'),\n",
       "                MorphToken('года',\n",
       "                           [123, 127),\n",
       "                           'RU',\n",
       "                           [Form('год', Grams(NOUN,gent,inan,masc,sing)),\n",
       "                            Form('год', Grams(Infr,NOUN,accs,inan,masc,plur)),\n",
       "                            Form('год',\n",
       "                                 Grams(Infr,NOUN,inan,masc,nomn,plur))])],\n",
       "               [110, 127))])"
      ]
     },
     "execution_count": 5,
     "metadata": {},
     "output_type": "execute_result"
    }
   ],
   "source": [
    "extractor = DatesExtractor()\n",
    "text = '''\n",
    "Я посмотрел на инфляцию в России, взял период с декабря 2002 года\n",
    "по декабрь 2015 года Инфляция 246%.\n",
    "\n",
    "14.14 29 июня 2016 года:   Наиболее ожесточенные бои ночью шли под\n",
    "Дебальцево\n",
    "'''\n",
    "matches = extractor(text)\n",
    "matches"
   ]
  },
  {
   "cell_type": "code",
   "execution_count": 6,
   "metadata": {},
   "outputs": [
    {
     "name": "stdout",
     "output_type": "stream",
     "text": [
      "0 Date(year='2002', month='декабрь', day=None)\n",
      "1 Date(year='2015', month='декабрь', day=None)\n",
      "2 Date(year='2016', month='июнь', day='29')\n"
     ]
    }
   ],
   "source": [
    "for index, match in enumerate(matches):\n",
    "    print(index, match.fact)"
   ]
  },
  {
   "cell_type": "code",
   "execution_count": 7,
   "metadata": {},
   "outputs": [
    {
     "data": {
      "text/html": [
       "<style>\n",
       "\n",
       ".markup {\n",
       "    white-space: pre-wrap;\n",
       "}\n",
       "\n",
       ".markup > mark {\n",
       "    line-height: 1;\n",
       "    display: inline-block;\n",
       "    border-radius: 0.25em;\n",
       "    border: 1px solid #fdf07c;\n",
       "    background: #ffffc2;\n",
       "}\n",
       "    </style><div class=\"markup tex2jax_ignore\">В <mark>1995</mark> году стоимость <mark>1 доллара</mark> была около <mark>800 рублей</mark></div>"
      ],
      "text/plain": [
       "Matches('В 1995 году стоимость 1 доллара была около 800 рублей',\n",
       "        [Match([Token('1995', [2, 6), 'INT')], [2, 6)),\n",
       "         Match([Token('1', [22, 23), 'INT'),\n",
       "                MorphToken('доллара',\n",
       "                           [24, 31),\n",
       "                           'RU',\n",
       "                           [Form('доллар', Grams(NOUN,gent,inan,masc,sing))])],\n",
       "               [22, 31)),\n",
       "         Match([Token('800', [43, 46), 'INT'),\n",
       "                MorphToken('рублей',\n",
       "                           [47, 53),\n",
       "                           'RU',\n",
       "                           [Form('рубль', Grams(NOUN,gent,inan,masc,plur))])],\n",
       "               [43, 53))])"
      ]
     },
     "execution_count": 7,
     "metadata": {},
     "output_type": "execute_result"
    }
   ],
   "source": [
    "extractor = MoneyExtractor()\n",
    "text = 'В 1995 году стоимость 1 доллара была около 800 рублей'''\n",
    "matches = extractor(text)\n",
    "matches"
   ]
  },
  {
   "cell_type": "code",
   "execution_count": 8,
   "metadata": {},
   "outputs": [
    {
     "name": "stdout",
     "output_type": "stream",
     "text": [
      "0 Money(amount='1995', range=None, currency=None)\n",
      "1 Money(amount='1', range=None, currency='доллара')\n",
      "2 Money(amount='800', range=None, currency='рублей')\n"
     ]
    }
   ],
   "source": [
    "for index, match in enumerate(matches):\n",
    "    print(index, match.fact)"
   ]
  }
 ],
 "metadata": {
  "kernelspec": {
   "display_name": "mypy3",
   "language": "python",
   "name": "mypy3"
  },
  "language_info": {
   "codemirror_mode": {
    "name": "ipython",
    "version": 3
   },
   "file_extension": ".py",
   "mimetype": "text/x-python",
   "name": "python",
   "nbconvert_exporter": "python",
   "pygments_lexer": "ipython3",
   "version": "3.5.1"
  }
 },
 "nbformat": 4,
 "nbformat_minor": 2
}
